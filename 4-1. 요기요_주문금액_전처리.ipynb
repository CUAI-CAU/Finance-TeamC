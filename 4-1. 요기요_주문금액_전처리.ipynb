{
 "cells": [
  {
   "cell_type": "code",
   "execution_count": 2,
   "metadata": {},
   "outputs": [],
   "source": [
    "import pandas as pd\n",
    "import numpy as np"
   ]
  },
  {
   "cell_type": "code",
   "execution_count": 3,
   "metadata": {},
   "outputs": [],
   "source": [
    "# 강남구용\n",
    "def get_min_fee(category):\n",
    "    # 데이터 불러오기\n",
    "    df = pd.read_csv(\"./강남구/강남구_\"+category+\"_매출추가_2.csv\") # 전체 리뷰 데이터 \n",
    "    df2 = pd.read_csv(\"./강남구url/강남구_\"+category+\"_세부업종.csv\") # 타격을 입은 업종을 선별한 데이터 \n",
    "    info = pd.read_csv(\"./강남구_\"+category+\"_가게정보.csv\") # 가게별 세부정보 데이터 \n",
    "    stores = df2['가게명'] # 타격을 입은 업종의 가게명\n",
    "\n",
    "    # 결과 데이터 프레임 \n",
    "    result = pd.DataFrame()\n",
    "    \n",
    "    # 타격 입은 업종별로 순회 \n",
    "    for store in stores:\n",
    "        try:\n",
    "            min_fee = info[info['가게명']==store] # 해당 가게 정보 가져오기\n",
    "            min_fee = min_fee['최소주문금액'].values[0] # 최소 주문 금액 가져오기\n",
    "        except:\n",
    "            continue # 선별 데이터와 불일치 시 예외 처리 \n",
    "            \n",
    "        temp = df[df['가게명']==store] # 전체 리뷰 데이터에서 해당 가게만 가져오기 \n",
    "        temp['주문 금액'] = temp['주문 금액'].apply(lambda x: 0 if np.isnan(x) else x) # NaN값을 0으로 변경 \n",
    "        temp['주문 금액'] = temp['주문 금액'].apply(lambda x: min_fee if x < min_fee else x) # 최소 주문금액보다 작으면 해당 값으로 변경\n",
    "        result = result.append(temp, sort=False) # 결과 데이터셋에 저장\n",
    "    \n",
    "    result.to_csv(\"./강남구/강남구_\"+category+\"_매출추가_3.csv\", encoding='utf-8-sig')\n",
    "        \n"
   ]
  },
  {
   "cell_type": "code",
   "execution_count": 4,
   "metadata": {},
   "outputs": [],
   "source": [
    "# 마포구용\n",
    "def get_min_fee2(category):\n",
    "    df = pd.read_csv(\"./마포구_리뷰최종/마포구_\"+category+\"_매출추가_2.csv\")# 전체 리뷰 데이터 \n",
    "    df2 = pd.read_csv(\"./마포구_리뷰최종/마포구_야식_세부업종.csv\")# 타격을 입은 업종을 선별한 데이터 \n",
    "    info = pd.read_csv(\"./마포구_\"+category+\"_가게정보.csv\")# 가게별 세부정보 데이터 \n",
    "    stores = df2['가게명']# 타격을 입은 업종의 가게명\n",
    "    \n",
    "    # 결과 데이터 프레임 \n",
    "    result = pd.DataFrame()\n",
    "    \n",
    "    # 타격 입은 업종별로 순회 \n",
    "    for store in stores:\n",
    "        try:\n",
    "            min_fee = info[info['가게명']==store] # 해당 가게 정보 가져오기\n",
    "            min_fee = min_fee['최소주문금액'].values[0] # 최소 주문 금액 가져오기\n",
    "        except:\n",
    "            continue # 선별 데이터와 불일치 시 예외 처리 \n",
    "            \n",
    "        temp = df[df['가게명']==store] # 전체 리뷰 데이터에서 해당 가게만 가져오기 \n",
    "        temp['주문 금액'] = temp['주문 금액'].apply(lambda x: 0 if np.isnan(x) else x) # NaN값을 0으로 변경 \n",
    "        temp['주문 금액'] = temp['주문 금액'].apply(lambda x: min_fee if x < min_fee else x) # 최소 주문금액보다 작으면 해당 값으로 변경\n",
    "        result = result.append(temp, sort=False) # 결과 데이터셋에 저장\n",
    "\n",
    "    result.to_csv(\"./마포구_리뷰최종/마포구_\"+category+\"_매출추가_3.csv\", encoding='utf-8-sig')\n",
    "        \n"
   ]
  },
  {
   "cell_type": "code",
   "execution_count": null,
   "metadata": {},
   "outputs": [],
   "source": [
    "get_min_fee(\"한식\")"
   ]
  }
 ],
 "metadata": {
  "kernelspec": {
   "display_name": "Find-A",
   "language": "python",
   "name": "finda"
  },
  "language_info": {
   "codemirror_mode": {
    "name": "ipython",
    "version": 3
   },
   "file_extension": ".py",
   "mimetype": "text/x-python",
   "name": "python",
   "nbconvert_exporter": "python",
   "pygments_lexer": "ipython3",
   "version": "3.9.1"
  }
 },
 "nbformat": 4,
 "nbformat_minor": 4
}
