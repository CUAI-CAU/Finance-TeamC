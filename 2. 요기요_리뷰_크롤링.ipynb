{
 "cells": [
  {
   "cell_type": "code",
   "execution_count": 25,
   "metadata": {},
   "outputs": [],
   "source": [
    "from bs4 import BeautifulSoup\n",
    "from selenium import webdriver\n",
    "from selenium.webdriver.common.keys import Keys\n",
    "from selenium.webdriver import ActionChains\n",
    "from tqdm import tqdm\n",
    "import pandas as pd\n",
    "import time\n",
    "import datetime\n",
    "\n",
    "\n",
    "def yogiyo_crawling(location, food_category):\n",
    "    \n",
    "    # url 가져오기\n",
    "    urls = pd.read_csv(\"./\"+location.split(\" \")[1]+\"_\"+food_category+\"_url_list.csv\")\n",
    "    \n",
    "    # 유효한 가게(리뷰개수 10개 이상)만 가져오기 \n",
    "    is_valid = urls['개수충족'] == 1\n",
    "    urls = urls[is_valid]\n",
    "    urls = urls['url'].values.tolist()\n",
    "    \n",
    "    address = location\n",
    "    name = location.split(\" \")[1]\n",
    "    list_url = \"https://www.yogiyo.co.kr/mobile/#/\"\n",
    "    \n",
    "    # 결과 데이터셋 생성\n",
    "    df = pd.DataFrame(columns=['시', '구', '업종명', '가게명', '년', '월', '전체평점', '맛 평점', '양 평점', '배달 평점', '리뷰 내용', '주문 내역'])\n",
    "\n",
    "    try:\n",
    "        # 가게별로 접속하여 리뷰 수집\n",
    "        for url in tqdm(urls):\n",
    "            # 해당 가게 url로 접속\n",
    "            driver = webdriver.Chrome('/Users/jijoonghong/Downloads/chromedriver')\n",
    "            driver.get(url)\n",
    "            time.sleep(3)\n",
    "            \n",
    "            # 리뷰 개수\n",
    "            num_of_review = driver.find_element_by_xpath('//*[@id=\"content\"]/div[2]/div[1]/div[5]/div[2]/div/strong[1]')\n",
    "            \n",
    "            # 가게명\n",
    "            store_name = driver.find_element_by_xpath('//*[@id=\"content\"]/div[2]/div[1]/div[1]/div[1]/span').text\n",
    "            \n",
    "            # 리뷰를 볼 수 있는 버튼 찾고 클릭  \n",
    "            try:\n",
    "                review = driver.find_element_by_xpath('//*[@id=\"content\"]/div[2]/div[1]/ul/li[2]/a')\n",
    "            except:\n",
    "                time.sleep(3)\n",
    "                review = driver.find_element_by_xpath('//*[@id=\"content\"]/div[2]/div[1]/ul/li[2]/a')\n",
    "\n",
    "            driver.execute_script(\"arguments[0].click();\", review)\n",
    "            time.sleep(1)\n",
    "\n",
    "            # 전체 리뷰 개수 확인    \n",
    "            try:\n",
    "                num_of_review = driver.find_element_by_xpath(\n",
    "                    '//*[@id=\"content\"]/div[2]/div[1]/div[5]/div[2]/div/strong[1]')\n",
    "                if num_of_review == '':\n",
    "                    num_of_review = driver.find_element_by_xpath('//*[@id=\"content\"]/div[2]/div[1]/ul/li[2]/a/span')\n",
    "            except:\n",
    "                time.sleep(3)\n",
    "                num_of_review = driver.find_element_by_xpath(\n",
    "                    '//*[@id=\"content\"]/div[2]/div[1]/div[5]/div[2]/div/strong[1]')\n",
    "                if num_of_review == '':\n",
    "                    num_of_review = driver.find_element_by_xpath('//*[@id=\"content\"]/div[2]/div[1]/ul/li[2]/a/span')\n",
    "\n",
    "                    \n",
    "            # 동적으로 변하는 더보기 버튼의 인덱스 계산(더보기 클릭 시 10개씩 증가) 및 전체 리뷰 확인 가능할 때 까지 클릭      \n",
    "            j = 0\n",
    "            idx = 11\n",
    "            max_idx = int(num_of_review.text) // 10\n",
    "\n",
    "            while True:\n",
    "                if j == max_idx:\n",
    "                    html = driver.page_source\n",
    "                    break\n",
    "                try:\n",
    "                    driver.find_element_by_css_selector('#review > li.list-group-item.btn-more > a').click()\n",
    "                    time.sleep(1.5)\n",
    "\n",
    "                    dates = driver.find_element_by_xpath(\n",
    "                        \"// *[ @ id = 'review'] / li[\" + str(idx) + \"] / div[1] / span[2]\").text\n",
    "                    if \"전\" in dates or \"어제\" in dates or int(dates.split(\"년\")[0]) > 2019:\n",
    "                        pass\n",
    "                    elif int(dates.split(\"년\")[0]) == 2019 and int(dates.split(\" \")[1][:-1]) >= 3:\n",
    "                        pass\n",
    "                    else:\n",
    "                        html = driver.page_source\n",
    "                        break\n",
    "\n",
    "                except Exception as e: # 네트워크 지연에 따른 예외 발생 시 대기 후 재실행\n",
    "                    print(e)\n",
    "                    time.sleep(3)\n",
    "                    driver.find_element_by_css_selector('#review > li.list-group-item.btn-more > a').click()\n",
    "                    time.sleep(1.5)\n",
    "\n",
    "                    dates = driver.find_element_by_xpath(\n",
    "                        \"// *[ @ id = 'review'] / li[\" + str(idx) + \"] / div[1] / span[2]\").text\n",
    "                    if \"전\" in dates or \"어제\" in dates or int(dates.split(\"년\")[0]) > 2019:\n",
    "                        pass\n",
    "                    elif int(dates.split(\"년\")[0]) == 2019 and int(dates.split(\" \")[1][:-1]) >= 3:\n",
    "                        pass\n",
    "                    else:\n",
    "                        html = driver.page_source\n",
    "                        break\n",
    "                j += 1\n",
    "                idx += 10\n",
    "\n",
    "            # 전체 리뷰 확보 후 html 파싱    \n",
    "            soup = BeautifulSoup(html, 'html.parser')\n",
    "            \n",
    "            # 리뷰만 가져오기 \n",
    "            reviews = soup.find_all(class_='list-group-item star-point ng-scope')\n",
    "            \n",
    "            # 데이터 삽입 전 전처리\n",
    "            for review in reviews:\n",
    "                # 날짜 계산\n",
    "                if \"전\" in review.find(class_=\"review-time ng-binding\").get_text() or (\n",
    "                        \"어제\" in review.find(class_=\"review-time ng-binding\").get_text()):\n",
    "                    year = 2021\n",
    "                    month = datetime.date.today().month\n",
    "                else:\n",
    "                    year = int(review.find(class_=\"review-time ng-binding\").get_text().split(\"년\")[0])\n",
    "                    month = int(review.find(class_=\"review-time ng-binding\").get_text().split(\" \")[1][0])\n",
    "\n",
    "                # 리뷰     \n",
    "                comment = review.find('p', attrs={'ng-show': 'review.comment'})\n",
    "                comment = comment.get_text().replace(\"\\n\", \" \").replace(\"  \", \" \")\n",
    "                \n",
    "                # 주문 메뉴 \n",
    "                menu = review.find('div', attrs={'class': \"order-items default ng-binding\"}).get_text()\n",
    "                \n",
    "                # 전체 평점 \n",
    "                overall = review.find_all(class_=\"full ng-scope\")\n",
    "                \n",
    "                # 세부 평점 \n",
    "                points = review.find_all(class_=\"points ng-binding\")\n",
    "                try:\n",
    "                    taste = int(points[0].get_text()) # 맛평점 \n",
    "                except:\n",
    "                    taste = \"\"\n",
    "                try:\n",
    "                    quantity = int(points[1].get_text()) # 양평점 \n",
    "                except:\n",
    "                    quantity = \"\"\n",
    "                try:\n",
    "                    delivery = int(points[2].get_text()) # 배달 평점\n",
    "                except:\n",
    "                    delivery = \"\"\n",
    "\n",
    "                # 하나의 리뷰 데이터 구성     \n",
    "                row = pd.DataFrame(\n",
    "                    [(address.split(\" \")[0], address.split(\" \")[1], food_category, store_name, year, month,\n",
    "                      len(overall), taste, quantity, delivery, comment, menu)],\n",
    "                    columns=['시', '구', '업종명', '가게명', '년', '월', '전체평점', '맛 평점', '양 평점', '배달 평점', '리뷰 내용', '주문 내역'])\n",
    "                \n",
    "                # 최종 데이터셋에 추가\n",
    "                df = df.append(row)\n",
    "\n",
    "            driver.close()\n",
    "\n",
    "    # 지나치게 많은 리뷰와 네트워크 지연 등의 문제로 동적 페이지 크롤링의 오류 다수 증가, 종료된 위치와 중간 결과를 저장함으로써 대처        \n",
    "    except Exception as e:\n",
    "        name = location.split(\" \")[1]\n",
    "        df_name = \"{}_{}\".format(name, food_category)\n",
    "        df.to_csv(\"./{}_비정상종료.csv\".format(df_name), encoding='utf-8-sig')\n",
    "        print(\"종료위치 {} - {} - {}\".format(food_category, urls.index(url), idx))\n",
    "        print(e)\n",
    "\n",
    "\n",
    "    df_name = \"{}_{}\".format(name, food_category)\n",
    "    df.to_csv(\"./{}.csv\".format(df_name), encoding='utf-8-sig')\n",
    "\n"
   ]
  },
  {
   "cell_type": "code",
   "execution_count": 28,
   "metadata": {},
   "outputs": [],
   "source": [
    "def main():\n",
    "    categories = [\"1인분주문\",\"프랜차이즈\", \"치킨\", \"피자양식\", \"중국집\", \"한식\", \"일식돈까스\", \"족발보쌈\", \"야식\", \"분식\", \"카페디저트\"]\n",
    "    final_start = datetime.datetime.now()\n",
    "\n",
    "    for category in categories:\n",
    "        start = datetime.datetime.now()\n",
    "        yogiyo_crawling('서울특별시 강남구 삼성동 16-1 강남구청', category)\n",
    "        end = datetime.datetime.now()\n",
    "        t = end - start\n",
    "        hours, remainder = divmod(t.seconds, 3600)\n",
    "        print(\"{} : {}시간 {}분\".format(category, hours, remainder))\n",
    "\n",
    "    final_end = datetime.datetime.now()\n",
    "\n",
    "    t = final_end - final_start\n",
    "    hours, remainder = divmod(t.seconds, 3600)\n",
    "    print(final_start)\n",
    "    print(final_end)\n",
    "    print(\"전체소요시간 : {}시간 {}분\".format(hours, remainder))"
   ]
  },
  {
   "cell_type": "code",
   "execution_count": 30,
   "metadata": {},
   "outputs": [
    {
     "name": "stderr",
     "output_type": "stream",
     "text": [
      "\r",
      "  0%|          | 0/28 [00:00<?, ?it/s]"
     ]
    },
    {
     "name": "stdout",
     "output_type": "stream",
     "text": [
      "55\n"
     ]
    },
    {
     "name": "stderr",
     "output_type": "stream",
     "text": [
      "\r",
      "  4%|▎         | 1/28 [00:16<07:36, 16.92s/it]"
     ]
    },
    {
     "name": "stdout",
     "output_type": "stream",
     "text": [
      "53\n"
     ]
    },
    {
     "name": "stderr",
     "output_type": "stream",
     "text": [
      "\r",
      "  7%|▋         | 2/28 [00:34<07:23, 17.06s/it]"
     ]
    },
    {
     "name": "stdout",
     "output_type": "stream",
     "text": [
      "51\n"
     ]
    },
    {
     "name": "stderr",
     "output_type": "stream",
     "text": [
      "\r",
      " 11%|█         | 3/28 [00:51<07:07, 17.09s/it]"
     ]
    },
    {
     "name": "stdout",
     "output_type": "stream",
     "text": [
      "47\n"
     ]
    },
    {
     "name": "stderr",
     "output_type": "stream",
     "text": [
      "\r",
      " 14%|█▍        | 4/28 [01:06<06:33, 16.39s/it]"
     ]
    },
    {
     "name": "stdout",
     "output_type": "stream",
     "text": [
      "44\n"
     ]
    },
    {
     "name": "stderr",
     "output_type": "stream",
     "text": [
      "\r",
      " 18%|█▊        | 5/28 [01:21<06:07, 15.97s/it]"
     ]
    },
    {
     "name": "stdout",
     "output_type": "stream",
     "text": [
      "43\n"
     ]
    },
    {
     "name": "stderr",
     "output_type": "stream",
     "text": [
      "\r",
      " 21%|██▏       | 6/28 [01:35<05:35, 15.26s/it]"
     ]
    },
    {
     "name": "stdout",
     "output_type": "stream",
     "text": [
      "43\n"
     ]
    },
    {
     "name": "stderr",
     "output_type": "stream",
     "text": [
      "\r",
      " 25%|██▌       | 7/28 [01:50<05:20, 15.24s/it]"
     ]
    },
    {
     "name": "stdout",
     "output_type": "stream",
     "text": [
      "41\n"
     ]
    },
    {
     "name": "stderr",
     "output_type": "stream",
     "text": [
      "\r",
      " 29%|██▊       | 8/28 [02:05<05:03, 15.15s/it]"
     ]
    },
    {
     "name": "stdout",
     "output_type": "stream",
     "text": [
      "39\n"
     ]
    },
    {
     "name": "stderr",
     "output_type": "stream",
     "text": [
      "\r",
      " 32%|███▏      | 9/28 [02:19<04:39, 14.71s/it]"
     ]
    },
    {
     "name": "stdout",
     "output_type": "stream",
     "text": [
      "37\n"
     ]
    },
    {
     "name": "stderr",
     "output_type": "stream",
     "text": [
      "\r",
      " 36%|███▌      | 10/28 [02:32<04:17, 14.29s/it]"
     ]
    },
    {
     "name": "stdout",
     "output_type": "stream",
     "text": [
      "33\n"
     ]
    },
    {
     "name": "stderr",
     "output_type": "stream",
     "text": [
      "\r",
      " 39%|███▉      | 11/28 [02:46<03:57, 13.97s/it]"
     ]
    },
    {
     "name": "stdout",
     "output_type": "stream",
     "text": [
      "33\n"
     ]
    },
    {
     "name": "stderr",
     "output_type": "stream",
     "text": [
      "\r",
      " 43%|████▎     | 12/28 [02:59<03:41, 13.83s/it]"
     ]
    },
    {
     "name": "stdout",
     "output_type": "stream",
     "text": [
      "28\n"
     ]
    },
    {
     "name": "stderr",
     "output_type": "stream",
     "text": [
      "\r",
      " 46%|████▋     | 13/28 [03:11<03:17, 13.19s/it]"
     ]
    },
    {
     "name": "stdout",
     "output_type": "stream",
     "text": [
      "26\n"
     ]
    },
    {
     "name": "stderr",
     "output_type": "stream",
     "text": [
      "\r",
      " 50%|█████     | 14/28 [03:23<02:59, 12.79s/it]"
     ]
    },
    {
     "name": "stdout",
     "output_type": "stream",
     "text": [
      "24\n"
     ]
    },
    {
     "name": "stderr",
     "output_type": "stream",
     "text": [
      "\r",
      " 54%|█████▎    | 15/28 [03:35<02:42, 12.51s/it]"
     ]
    },
    {
     "name": "stdout",
     "output_type": "stream",
     "text": [
      "23\n"
     ]
    },
    {
     "name": "stderr",
     "output_type": "stream",
     "text": [
      "\r",
      " 57%|█████▋    | 16/28 [03:47<02:31, 12.59s/it]"
     ]
    },
    {
     "name": "stdout",
     "output_type": "stream",
     "text": [
      "20\n"
     ]
    },
    {
     "name": "stderr",
     "output_type": "stream",
     "text": [
      "\r",
      " 61%|██████    | 17/28 [04:00<02:17, 12.53s/it]"
     ]
    },
    {
     "name": "stdout",
     "output_type": "stream",
     "text": [
      "19\n"
     ]
    },
    {
     "name": "stderr",
     "output_type": "stream",
     "text": [
      "\r",
      " 64%|██████▍   | 18/28 [04:10<01:59, 11.91s/it]"
     ]
    },
    {
     "name": "stdout",
     "output_type": "stream",
     "text": [
      "17\n"
     ]
    },
    {
     "name": "stderr",
     "output_type": "stream",
     "text": [
      "\r",
      " 68%|██████▊   | 19/28 [04:21<01:43, 11.50s/it]"
     ]
    },
    {
     "name": "stdout",
     "output_type": "stream",
     "text": [
      "17\n"
     ]
    },
    {
     "name": "stderr",
     "output_type": "stream",
     "text": [
      "\r",
      " 71%|███████▏  | 20/28 [04:31<01:29, 11.13s/it]"
     ]
    },
    {
     "name": "stdout",
     "output_type": "stream",
     "text": [
      "16\n"
     ]
    },
    {
     "name": "stderr",
     "output_type": "stream",
     "text": [
      "\r",
      " 75%|███████▌  | 21/28 [04:41<01:15, 10.84s/it]"
     ]
    },
    {
     "name": "stdout",
     "output_type": "stream",
     "text": [
      "15\n"
     ]
    },
    {
     "name": "stderr",
     "output_type": "stream",
     "text": [
      "\r",
      " 79%|███████▊  | 22/28 [04:52<01:04, 10.73s/it]"
     ]
    },
    {
     "name": "stdout",
     "output_type": "stream",
     "text": [
      "15\n"
     ]
    },
    {
     "name": "stderr",
     "output_type": "stream",
     "text": [
      "\r",
      " 82%|████████▏ | 23/28 [05:02<00:52, 10.53s/it]"
     ]
    },
    {
     "name": "stdout",
     "output_type": "stream",
     "text": [
      "13\n"
     ]
    },
    {
     "name": "stderr",
     "output_type": "stream",
     "text": [
      "\r",
      " 86%|████████▌ | 24/28 [05:12<00:41, 10.39s/it]"
     ]
    },
    {
     "name": "stdout",
     "output_type": "stream",
     "text": [
      "13\n"
     ]
    },
    {
     "name": "stderr",
     "output_type": "stream",
     "text": [
      "\r",
      " 89%|████████▉ | 25/28 [05:22<00:30, 10.29s/it]"
     ]
    },
    {
     "name": "stdout",
     "output_type": "stream",
     "text": [
      "13\n"
     ]
    },
    {
     "name": "stderr",
     "output_type": "stream",
     "text": [
      "\r",
      " 93%|█████████▎| 26/28 [05:32<00:20, 10.18s/it]"
     ]
    },
    {
     "name": "stdout",
     "output_type": "stream",
     "text": [
      "11\n"
     ]
    },
    {
     "name": "stderr",
     "output_type": "stream",
     "text": [
      "\r",
      " 96%|█████████▋| 27/28 [05:42<00:10, 10.11s/it]"
     ]
    },
    {
     "name": "stdout",
     "output_type": "stream",
     "text": [
      "11\n"
     ]
    },
    {
     "name": "stderr",
     "output_type": "stream",
     "text": [
      "100%|██████████| 28/28 [05:52<00:00, 12.60s/it]"
     ]
    },
    {
     "name": "stdout",
     "output_type": "stream",
     "text": [
      "야식 : 0시간 352분\n",
      "2021-08-04 01:25:35.536116\n",
      "2021-08-04 01:31:28.233600\n",
      "전체소요시간 : 0시간 352분\n"
     ]
    },
    {
     "name": "stderr",
     "output_type": "stream",
     "text": [
      "\n"
     ]
    }
   ],
   "source": [
    "main()"
   ]
  },
  {
   "cell_type": "code",
   "execution_count": null,
   "metadata": {},
   "outputs": [],
   "source": []
  }
 ],
 "metadata": {
  "kernelspec": {
   "display_name": "Find-A",
   "language": "python",
   "name": "finda"
  },
  "language_info": {
   "codemirror_mode": {
    "name": "ipython",
    "version": 3
   },
   "file_extension": ".py",
   "mimetype": "text/x-python",
   "name": "python",
   "nbconvert_exporter": "python",
   "pygments_lexer": "ipython3",
   "version": "3.9.1"
  }
 },
 "nbformat": 4,
 "nbformat_minor": 4
}
