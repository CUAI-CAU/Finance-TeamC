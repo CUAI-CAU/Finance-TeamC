{
 "cells": [
  {
   "cell_type": "code",
   "execution_count": 2,
   "metadata": {},
   "outputs": [],
   "source": [
    "import pandas as pd\n",
    "import json"
   ]
  },
  {
   "cell_type": "code",
   "execution_count": 124,
   "metadata": {},
   "outputs": [],
   "source": [
    "def get_sales(category):\n",
    "    # 리뷰 가져오기\n",
    "    df = pd.read_csv(\"./마포구_리뷰최종/마포구_\"+category+\"_리뷰최종.csv\")\n",
    "\n",
    "    # 새로운 열 추가\n",
    "    df[\"주문 금액\"] = \"\"\n",
    "\n",
    "    # json 불러오기\n",
    "    with open(\"./마포구_\"+category+\"_메뉴정보.json\", \"r\", encoding=\"utf-8\") as f:\n",
    "        menu_json = json.load(f)\n",
    "\n",
    "    # json에서 가게 이름 불러오기\n",
    "    stores = menu_json.keys()\n",
    "\n",
    "    for i in range(len(df)):\n",
    "\n",
    "        # json 있는 가게인지 확인 \n",
    "        line = df.iloc[i]\n",
    "        if line['가게명'] in stores:\n",
    "            menu_of_store = menu_json[line['가게명']] \n",
    "            menu_values = list(menu_of_store.keys())\n",
    "        else :\n",
    "            continue\n",
    "\n",
    "        # 주문내역 전처리\n",
    "        if \",\" in line['주문 내역']:\n",
    "            orders = list(map(lambda x: x.strip(), line['주문 내역'].split(',')))\n",
    "        else:\n",
    "            orders = []\n",
    "            orders.append(line['주문 내역'].strip())\n",
    "        print(\"-------------------------------------------------\")\n",
    "        print(orders)\n",
    "        temp = orders[:]\n",
    "        for j in range(len(temp)):\n",
    "            if \"/\" not in temp[j]:\n",
    "                orders.remove(temp[j])   \n",
    "        print(orders)\n",
    "\n",
    "        # json에서 찾아서 구매액 계산\n",
    "        sales = 0\n",
    "        for order in orders:\n",
    "            try:\n",
    "                sales += int(menu_of_store[order.split('/')[0]].replace(\",\",\"\")[:-1]) * int(order.split('/')[1][0])\n",
    "            except: \n",
    "                pass \n",
    "\n",
    "        # 구매가격 열에 추가\n",
    "        df.loc[i,'주문 금액'] = sales\n",
    "        print(i, sales)\n",
    "        print(\"-------------------------------------------------\")\n",
    "\n",
    "    # csv로 다시 저장\n",
    "    df.to_csv(\"./마포구_리뷰최종/마포구_\"+category+\"_매출추가.csv\")\n",
    "\n",
    "    \n",
    "    "
   ]
  },
  {
   "cell_type": "code",
   "execution_count": null,
   "metadata": {},
   "outputs": [],
   "source": [
    "get_sales(\"피자양식\")"
   ]
  }
 ],
 "metadata": {
  "kernelspec": {
   "display_name": "Find-A",
   "language": "python",
   "name": "finda"
  },
  "language_info": {
   "codemirror_mode": {
    "name": "ipython",
    "version": 3
   },
   "file_extension": ".py",
   "mimetype": "text/x-python",
   "name": "python",
   "nbconvert_exporter": "python",
   "pygments_lexer": "ipython3",
   "version": "3.9.1"
  }
 },
 "nbformat": 4,
 "nbformat_minor": 4
}
